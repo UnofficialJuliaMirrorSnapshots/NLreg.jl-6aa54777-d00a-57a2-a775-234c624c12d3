{
 "cells": [
  {
   "cell_type": "markdown",
   "metadata": {},
   "source": [
    "# A simple example of fitting a nonlinear regression model"
   ]
  },
  {
   "cell_type": "markdown",
   "metadata": {},
   "source": [
    "First we load the `NLreg` package and and the `CSV` package. The `CSV.read` function creates a `DataFrame` from a comma-separated file's contents."
   ]
  },
  {
   "cell_type": "code",
   "execution_count": 1,
   "metadata": {
    "collapsed": true
   },
   "outputs": [
    {
     "data": {
      "text/html": [
       "<table class=\"data-frame\"><thead><tr><th></th><th>ID</th><th>TIME</th><th>CMT</th><th>CONC</th></tr><tr><th></th><th>Int64</th><th>Float64</th><th>Int64</th><th>Float64</th></tr></thead><tbody><p>580 rows × 4 columns</p><tr><th>1</th><td>1</td><td>1.0</td><td>1</td><td>0.34051</td></tr><tr><th>2</th><td>1</td><td>2.0</td><td>1</td><td>0.32086</td></tr><tr><th>3</th><td>1</td><td>5.0</td><td>1</td><td>0.27354</td></tr><tr><th>4</th><td>2</td><td>1.5</td><td>1</td><td>0.56903</td></tr><tr><th>5</th><td>2</td><td>6.0</td><td>1</td><td>0.21082</td></tr><tr><th>6</th><td>2</td><td>9.0</td><td>1</td><td>0.15317</td></tr><tr><th>7</th><td>3</td><td>0.5</td><td>1</td><td>0.7574</td></tr><tr><th>8</th><td>3</td><td>4.0</td><td>1</td><td>0.24331</td></tr><tr><th>9</th><td>3</td><td>7.0</td><td>1</td><td>0.058185</td></tr><tr><th>10</th><td>4</td><td>1.0</td><td>1</td><td>0.48332</td></tr><tr><th>11</th><td>4</td><td>2.0</td><td>1</td><td>0.33927</td></tr><tr><th>12</th><td>4</td><td>5.0</td><td>1</td><td>0.048025</td></tr><tr><th>13</th><td>5</td><td>1.5</td><td>1</td><td>0.87606</td></tr><tr><th>14</th><td>5</td><td>6.0</td><td>1</td><td>0.28921</td></tr><tr><th>15</th><td>5</td><td>9.0</td><td>1</td><td>0.1743</td></tr><tr><th>16</th><td>6</td><td>0.5</td><td>1</td><td>1.0068</td></tr><tr><th>17</th><td>6</td><td>4.0</td><td>1</td><td>0.45434</td></tr><tr><th>18</th><td>6</td><td>7.0</td><td>1</td><td>0.11297</td></tr><tr><th>19</th><td>7</td><td>1.0</td><td>1</td><td>0.32864</td></tr><tr><th>20</th><td>7</td><td>2.0</td><td>1</td><td>0.35299</td></tr><tr><th>21</th><td>7</td><td>5.0</td><td>1</td><td>0.064105</td></tr><tr><th>22</th><td>8</td><td>1.5</td><td>1</td><td>0.67998</td></tr><tr><th>23</th><td>8</td><td>6.0</td><td>1</td><td>0.20906</td></tr><tr><th>24</th><td>8</td><td>9.0</td><td>1</td><td>0.17684</td></tr><tr><th>25</th><td>9</td><td>0.5</td><td>1</td><td>1.1542</td></tr><tr><th>26</th><td>9</td><td>4.0</td><td>1</td><td>0.9824</td></tr><tr><th>27</th><td>9</td><td>7.0</td><td>1</td><td>0.80797</td></tr><tr><th>28</th><td>10</td><td>1.0</td><td>1</td><td>0.89303</td></tr><tr><th>29</th><td>10</td><td>2.0</td><td>1</td><td>0.36552</td></tr><tr><th>30</th><td>10</td><td>5.0</td><td>1</td><td>0.046026</td></tr><tr><th>&vellip;</th><td>&vellip;</td><td>&vellip;</td><td>&vellip;</td><td>&vellip;</td></tr></tbody></table>"
      ],
      "text/latex": [
       "\\begin{tabular}{r|cccc}\n",
       "\t& ID & TIME & CMT & CONC\\\\\n",
       "\t\\hline\n",
       "\t& Int64 & Float64 & Int64 & Float64\\\\\n",
       "\t\\hline\n",
       "\t1 & 1 & 1.0 & 1 & 0.34051 \\\\\n",
       "\t2 & 1 & 2.0 & 1 & 0.32086 \\\\\n",
       "\t3 & 1 & 5.0 & 1 & 0.27354 \\\\\n",
       "\t4 & 2 & 1.5 & 1 & 0.56903 \\\\\n",
       "\t5 & 2 & 6.0 & 1 & 0.21082 \\\\\n",
       "\t6 & 2 & 9.0 & 1 & 0.15317 \\\\\n",
       "\t7 & 3 & 0.5 & 1 & 0.7574 \\\\\n",
       "\t8 & 3 & 4.0 & 1 & 0.24331 \\\\\n",
       "\t9 & 3 & 7.0 & 1 & 0.058185 \\\\\n",
       "\t10 & 4 & 1.0 & 1 & 0.48332 \\\\\n",
       "\t11 & 4 & 2.0 & 1 & 0.33927 \\\\\n",
       "\t12 & 4 & 5.0 & 1 & 0.048025 \\\\\n",
       "\t13 & 5 & 1.5 & 1 & 0.87606 \\\\\n",
       "\t14 & 5 & 6.0 & 1 & 0.28921 \\\\\n",
       "\t15 & 5 & 9.0 & 1 & 0.1743 \\\\\n",
       "\t16 & 6 & 0.5 & 1 & 1.0068 \\\\\n",
       "\t17 & 6 & 4.0 & 1 & 0.45434 \\\\\n",
       "\t18 & 6 & 7.0 & 1 & 0.11297 \\\\\n",
       "\t19 & 7 & 1.0 & 1 & 0.32864 \\\\\n",
       "\t20 & 7 & 2.0 & 1 & 0.35299 \\\\\n",
       "\t21 & 7 & 5.0 & 1 & 0.064105 \\\\\n",
       "\t22 & 8 & 1.5 & 1 & 0.67998 \\\\\n",
       "\t23 & 8 & 6.0 & 1 & 0.20906 \\\\\n",
       "\t24 & 8 & 9.0 & 1 & 0.17684 \\\\\n",
       "\t25 & 9 & 0.5 & 1 & 1.1542 \\\\\n",
       "\t26 & 9 & 4.0 & 1 & 0.9824 \\\\\n",
       "\t27 & 9 & 7.0 & 1 & 0.80797 \\\\\n",
       "\t28 & 10 & 1.0 & 1 & 0.89303 \\\\\n",
       "\t29 & 10 & 2.0 & 1 & 0.36552 \\\\\n",
       "\t30 & 10 & 5.0 & 1 & 0.046026 \\\\\n",
       "\t$\\dots$ & $\\dots$ & $\\dots$ & $\\dots$ & $\\dots$ \\\\\n",
       "\\end{tabular}\n"
      ],
      "text/plain": [
       "580×4 DataFrames.DataFrame\n",
       "│ Row │ ID    │ TIME    │ CMT   │ CONC     │\n",
       "│     │ \u001b[90mInt64\u001b[39m │ \u001b[90mFloat64\u001b[39m │ \u001b[90mInt64\u001b[39m │ \u001b[90mFloat64\u001b[39m  │\n",
       "├─────┼───────┼─────────┼───────┼──────────┤\n",
       "│ 1   │ 1     │ 1.0     │ 1     │ 0.34051  │\n",
       "│ 2   │ 1     │ 2.0     │ 1     │ 0.32086  │\n",
       "│ 3   │ 1     │ 5.0     │ 1     │ 0.27354  │\n",
       "│ 4   │ 2     │ 1.5     │ 1     │ 0.56903  │\n",
       "│ 5   │ 2     │ 6.0     │ 1     │ 0.21082  │\n",
       "│ 6   │ 2     │ 9.0     │ 1     │ 0.15317  │\n",
       "│ 7   │ 3     │ 0.5     │ 1     │ 0.7574   │\n",
       "│ 8   │ 3     │ 4.0     │ 1     │ 0.24331  │\n",
       "│ 9   │ 3     │ 7.0     │ 1     │ 0.058185 │\n",
       "│ 10  │ 4     │ 1.0     │ 1     │ 0.48332  │\n",
       "⋮\n",
       "│ 570 │ 197   │ 6.0     │ 1     │ 0.25903  │\n",
       "│ 571 │ 197   │ 9.0     │ 1     │ 0.3598   │\n",
       "│ 572 │ 198   │ 0.5     │ 1     │ 1.0686   │\n",
       "│ 573 │ 198   │ 4.0     │ 1     │ 0.87058  │\n",
       "│ 574 │ 198   │ 7.0     │ 1     │ 0.14702  │\n",
       "│ 575 │ 199   │ 1.0     │ 1     │ 0.38648  │\n",
       "│ 576 │ 199   │ 2.0     │ 1     │ 0.15785  │\n",
       "│ 577 │ 199   │ 5.0     │ 1     │ 0.061883 │\n",
       "│ 578 │ 200   │ 1.5     │ 1     │ 0.55079  │\n",
       "│ 579 │ 200   │ 6.0     │ 1     │ 0.060114 │\n",
       "│ 580 │ 200   │ 9.0     │ 1     │ 0.011629 │"
      ]
     },
     "execution_count": 1,
     "metadata": {},
     "output_type": "execute_result"
    }
   ],
   "source": [
    "using CSV, NLreg\n",
    "const sd1 = CSV.read(joinpath(dirname(pathof(NLreg)),\"..\", \"data\",\"sd1.csv\"))"
   ]
  },
  {
   "cell_type": "markdown",
   "metadata": {},
   "source": [
    "Nonlinear regression models are passed as functions taking two arguments, `φ` and `data`.  The formal name of the first argument is not important but the second argument must be called `data` because it accesses a data frame of that name in the closure of the function.  Note the use of the `@.` macro to wrap the expression for the model function itself. This provides implicit broadcasting of all operators and function calls over vectors like `data.TIME`."
   ]
  },
  {
   "cell_type": "code",
   "execution_count": 2,
   "metadata": {},
   "outputs": [
    {
     "data": {
      "text/plain": [
       "bolussd1c (generic function with 1 method)"
      ]
     },
     "execution_count": 2,
     "metadata": {},
     "output_type": "execute_result"
    }
   ],
   "source": [
    "function bolussd1c(φ, data)\n",
    "    V = exp(φ[1])  # convert log(V) to V\n",
    "    K = exp(φ[2])  # convert log(K) to K\n",
    "    @. V * exp(-K * data.TIME)\n",
    "end"
   ]
  },
  {
   "cell_type": "markdown",
   "metadata": {},
   "source": [
    "Finally we create an `NLregModel` and fit it."
   ]
  },
  {
   "cell_type": "code",
   "execution_count": 3,
   "metadata": {},
   "outputs": [
    {
     "name": "stdout",
     "output_type": "stream",
     "text": [
      "(cvg, oldrss, φ) = (0.7087265492426383, 1039.7035510463018, [0.0, 0.0])\n",
      "(cvg, oldrss, φ) = (0.8856756805026708, 528.6536020632336, [0.381833596934624, -3.9220032026992646])\n",
      "(cvg, oldrss, φ) = (0.5490024999891685, 171.8086315769213, [0.04668756323145257, -0.3319429715489477])\n",
      "(cvg, oldrss, φ) = (0.20285779837088713, 115.47981619401415, [-0.09934699469808903, -1.7177183033377732])\n",
      "(cvg, oldrss, φ) = (0.020463300481672192, 110.6461084202346, [0.1411637033576492, -1.3659983488890663])\n",
      "(cvg, oldrss, φ) = (0.0011208447370500915, 110.59743443424807, [0.13437658947611983, -1.4013705213462342])\n",
      "(cvg, oldrss, φ) = (7.037798848808803e-5, 110.59728691976366, [0.13367380188989927, -1.4035527314516523])\n",
      "(cvg, oldrss, φ) = (4.483050668814705e-6, 110.59728633708355, [0.13362038364060078, -1.4036921146847325])\n"
     ]
    },
    {
     "data": {
      "text/plain": [
       "Nonlinear regression model (NLregModel)\n",
       "\n",
       " Residual sum of squares: 110.59728633708355\n",
       "\n",
       "────────────────────────────────\n",
       "    Estimate  Std.Error  t value\n",
       "────────────────────────────────\n",
       "lV   0.13362  0.043366      3.08\n",
       "lK  -1.40369  0.0823866   -17.04\n",
       "────────────────────────────────\n"
      ]
     },
     "execution_count": 3,
     "metadata": {},
     "output_type": "execute_result"
    }
   ],
   "source": [
    "m1 = fit!(NLregModel(bolussd1c, sd1, copy(sd1.CONC), (lV = 0., lK = 0.)), verbose=true)"
   ]
  }
 ],
 "metadata": {
  "kernelspec": {
   "display_name": "Julia 1.2.0-rc2",
   "language": "julia",
   "name": "julia-1.2"
  },
  "language_info": {
   "file_extension": ".jl",
   "mimetype": "application/julia",
   "name": "julia",
   "version": "1.2.0"
  }
 },
 "nbformat": 4,
 "nbformat_minor": 2
}
